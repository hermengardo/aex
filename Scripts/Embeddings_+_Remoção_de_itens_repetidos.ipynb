{
  "nbformat": 4,
  "nbformat_minor": 0,
  "metadata": {
    "colab": {
      "provenance": []
    },
    "kernelspec": {
      "name": "python3",
      "display_name": "Python 3"
    },
    "language_info": {
      "name": "python"
    }
  },
  "cells": [
    {
      "cell_type": "code",
      "execution_count": null,
      "metadata": {
        "id": "Ox7hJl1qGGHE"
      },
      "outputs": [],
      "source": [
        "import pandas as pd\n",
        "import seaborn as sns\n",
        "import numpy as np\n",
        "\n",
        "from tqdm import tqdm\n",
        "from openai import OpenAI\n",
        "from collections import defaultdict\n",
        "from sklearn.preprocessing import OneHotEncoder\n",
        "from sklearn.metrics.pairwise import cosine_similarity\n",
        "\n",
        "tqdm.pandas()"
      ]
    },
    {
      "cell_type": "code",
      "source": [
        "from google.colab import drive\n",
        "drive.mount('/content/drive/')"
      ],
      "metadata": {
        "id": "UwLSCuwJGX0N",
        "colab": {
          "base_uri": "https://localhost:8080/"
        },
        "outputId": "7f8dcb2a-33ba-47a5-bff5-e796d8a1c070"
      },
      "execution_count": null,
      "outputs": [
        {
          "output_type": "stream",
          "name": "stdout",
          "text": [
            "Drive already mounted at /content/drive/; to attempt to forcibly remount, call drive.mount(\"/content/drive/\", force_remount=True).\n"
          ]
        }
      ]
    },
    {
      "cell_type": "code",
      "source": [
        "class CFG:\n",
        "  # Modelo\n",
        "  PATH = \"/content/drive/MyDrive/Melina - Aex/aex_estruturados.parquet\"\n",
        "  API_KEY = \".\"\n",
        "\n",
        "  # Embeddings\n",
        "  MODEL = \"text-embedding-3-large\"\n",
        "\n",
        "  THRESHOLD = .9 # Threshold para a similaridade"
      ],
      "metadata": {
        "id": "zUX_T37-MeOG"
      },
      "execution_count": null,
      "outputs": []
    },
    {
      "cell_type": "code",
      "source": [
        "class Processor:\n",
        "  def __init__(self):\n",
        "    self.key = CFG.API_KEY\n",
        "    self.client = OpenAI(api_key=self.key)\n",
        "    self.data = pd.read_parquet(CFG.PATH)\n",
        "\n",
        "    self.run()\n",
        "\n",
        "  @property\n",
        "  def get_data(self):\n",
        "    return self.data.copy()\n",
        "\n",
        "  def run(self):\n",
        "    self.build_corpus()\n",
        "    self.get_embeddings()\n",
        "\n",
        "  def build_corpus(self):\n",
        "    self.data[\"Corpus\"] = (\n",
        "        self.data[\"Título da Atividade\"].fillna(\" \") + \" \" +\n",
        "        self.data[\"Descrição da Atividade\"].fillna(\" \")\n",
        "    ).str.strip()\n",
        "\n",
        "    self.data[\"Corpus\"] = self.data[\"Corpus\"].str.replace(\"\\n\", \" \")\n",
        "\n",
        "  def get_embeddings(self):\n",
        "     self.data[\"Embedding\"] = self.data[\"Corpus\"].progress_apply(\n",
        "        lambda x: self.client.embeddings.create(\n",
        "            model=CFG.MODEL,\n",
        "            input=x\n",
        "        ).data[0].embedding\n",
        "    )"
      ],
      "metadata": {
        "id": "94UGwUmkNJYV"
      },
      "execution_count": null,
      "outputs": []
    },
    {
      "cell_type": "code",
      "source": [
        "def find_similar(df, similarity_matrix, idx, threshold):\n",
        "  similar_indices = np.where(similarity_matrix[idx] >= threshold)[0]\n",
        "  similar_indices = similar_indices[similar_indices != idx]\n",
        "  return df.loc[similar_indices, \"AEX ID\"].tolist()\n",
        "\n",
        "def cos_sim_by_nusp(df):\n",
        "    dataframes = []\n",
        "\n",
        "    for nusp in tqdm(df[\"Docente Responsável - NUSP\"].unique()):\n",
        "        temp = df[df[\"Docente Responsável - NUSP\"] == nusp].copy()\n",
        "        temp.reset_index(inplace=True, drop=True)\n",
        "\n",
        "        if len(temp) == 1:\n",
        "            temp[\"Similares\"] = [[]]\n",
        "        else:\n",
        "            matrix = cosine_similarity(np.vstack(temp.Embedding.values))\n",
        "            temp[\"Similares\"] = temp.index.map(lambda idx: find_similar(temp, matrix, idx, CFG.THRESHOLD))\n",
        "\n",
        "        dataframes.append(temp[[\"Título da Atividade\", \"AEX ID\", \"Docente Responsável - Nome\", \"Similares\"]])\n",
        "\n",
        "    return pd.concat(dataframes)\n",
        "\n",
        "def flatten_by_similarity(df, similars):\n",
        "  '''\n",
        "    Recebe um dataframe contendo AEX similares (similars)\n",
        "    e o conjunto total de dados AEX (df)\n",
        "    Retorna uma versão compactada de df com base na similaridade\n",
        "  '''\n",
        "  df = df.copy()\n",
        "\n",
        "  added = []\n",
        "  to_remove = []\n",
        "\n",
        "  for key, row in similars.iterrows():\n",
        "      IDs = row[\"Similares\"]\n",
        "      root = row[\"AEX ID\"]\n",
        "\n",
        "      if root not in added:\n",
        "          added.append(root)\n",
        "          for i, ID in enumerate(IDs):\n",
        "              added.append(ID)\n",
        "              to_remove.append(ID)\n",
        "              similar_row = df.loc[df[\"AEX ID\"] == ID, [\"AEX ID\", \"Título da Atividade\", \"Descrição da Atividade\"]]\n",
        "\n",
        "              for col in similar_row.columns:\n",
        "                  df.loc[df[\"AEX ID\"] == root, f\"Similar_{i+1}_{col}\"] = similar_row.iloc[0][col] if not similar_row.empty else None\n",
        "\n",
        "  df = df[~df[\"AEX ID\"].isin(to_remove)]\n",
        "\n",
        "  return df\n",
        "\n",
        "def run(df):\n",
        "  df = df.copy()\n",
        "  df = flatten_by_similarity(df, cos_sim_by_nusp(df))\n",
        "\n",
        "  return df"
      ],
      "metadata": {
        "id": "D-pgdHwBoJOs"
      },
      "execution_count": null,
      "outputs": []
    },
    {
      "cell_type": "code",
      "source": [
        "handler = Processor()"
      ],
      "metadata": {
        "colab": {
          "base_uri": "https://localhost:8080/"
        },
        "id": "MMuFv9AFMiQH",
        "outputId": "7e51c1d2-35f4-4197-a823-9640d84130c1"
      },
      "execution_count": null,
      "outputs": [
        {
          "output_type": "stream",
          "name": "stderr",
          "text": [
            "100%|██████████| 1179/1179 [10:35<00:00,  1.85it/s]\n"
          ]
        }
      ]
    },
    {
      "cell_type": "code",
      "source": [
        "data = handler.get_data"
      ],
      "metadata": {
        "id": "tlB-eyiUgk93"
      },
      "execution_count": null,
      "outputs": []
    },
    {
      "cell_type": "code",
      "source": [
        "agregados = run(data)\n",
        "repetidos = agregados[~agregados[\"Similar_1_AEX ID\"].isna()].copy()"
      ],
      "metadata": {
        "colab": {
          "base_uri": "https://localhost:8080/"
        },
        "id": "6qbRfyBctPzz",
        "outputId": "465c60f5-e9dd-4dce-aff9-73d6b23bedf1"
      },
      "execution_count": null,
      "outputs": [
        {
          "output_type": "stream",
          "name": "stderr",
          "text": [
            "100%|██████████| 723/723 [00:01<00:00, 533.76it/s]\n"
          ]
        }
      ]
    },
    {
      "cell_type": "code",
      "source": [
        "repetidos = repetidos[[\n",
        " 'Docente Responsável - NUSP',\n",
        " 'Docente Responsável - Nome',\n",
        " 'Unidade Nome',\n",
        " 'Unidade Sigla',\n",
        "\n",
        " 'Título da Atividade',\n",
        " 'Similar_1_Título da Atividade',\n",
        " 'Similar_2_Título da Atividade',\n",
        " 'Similar_3_Título da Atividade',\n",
        " 'Similar_4_Título da Atividade',\n",
        " 'Similar_5_Título da Atividade',\n",
        "\n",
        " 'Descrição da Atividade',\n",
        " 'Similar_1_Descrição da Atividade',\n",
        " 'Similar_2_Descrição da Atividade',\n",
        " 'Similar_3_Descrição da Atividade',\n",
        " 'Similar_4_Descrição da Atividade',\n",
        " 'Similar_5_Descrição da Atividade',\n",
        "\n",
        "  'AEX ID',\n",
        " 'Similar_1_AEX ID',\n",
        " 'Similar_2_AEX ID',\n",
        " 'Similar_3_AEX ID',\n",
        " 'Similar_4_AEX ID',\n",
        " 'Similar_5_AEX ID',\n",
        "]].copy()\n",
        "\n",
        "repetidos = repetidos.rename(columns={\n",
        "    'Docente Responsável - NUSP': 'Docente Responsável - NUSP (ROOT)',\n",
        "    'Docente Responsável - Nome': 'Docente Responsável - Nome (ROOT)',\n",
        "    'Unidade Nome': 'Unidade Nome (ROOT)',\n",
        "    'Unidade Sigla': 'Unidade Sigla (ROOT)',\n",
        "    'AEX ID': 'AEX ID (ROOT)',\n",
        "    'Título da Atividade': 'Título da Atividade (ROOT)',\n",
        "    'Descrição da Atividade': 'Descrição da Atividade (ROOT)'\n",
        "})\n",
        "\n",
        "repetidos.reset_index(inplace=True, drop=True)"
      ],
      "metadata": {
        "id": "VYRrlDg4ukQf"
      },
      "execution_count": null,
      "outputs": []
    },
    {
      "cell_type": "code",
      "source": [
        "repetidos.to_csv(\"repetidos.csv\", index=False)"
      ],
      "metadata": {
        "id": "UbcTIRo-vTQO"
      },
      "execution_count": null,
      "outputs": []
    },
    {
      "cell_type": "code",
      "source": [
        "data.to_parquet(\"/content/drive/MyDrive/Melina - Aex/embeddings_aex.parquet\")"
      ],
      "metadata": {
        "id": "HstAkeHAtWN0"
      },
      "execution_count": null,
      "outputs": []
    }
  ]
}